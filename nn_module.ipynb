{
  "nbformat": 4,
  "nbformat_minor": 0,
  "metadata": {
    "colab": {
      "provenance": [],
      "collapsed_sections": [
        "NJPmsyg3n4N7",
        "bCAuzJpfy9Sa",
        "YH8_kbBAn6fR",
        "WhFDJ3Lhn_YJ"
      ],
      "authorship_tag": "ABX9TyMaBybUteaqfCoosDYVNCQ8",
      "include_colab_link": true
    },
    "kernelspec": {
      "name": "python3",
      "display_name": "Python 3"
    },
    "language_info": {
      "name": "python"
    }
  },
  "cells": [
    {
      "cell_type": "markdown",
      "metadata": {
        "id": "view-in-github",
        "colab_type": "text"
      },
      "source": [
        "<a href=\"https://colab.research.google.com/github/ejdam87/neural-network/blob/master/nn_module.ipynb\" target=\"_parent\"><img src=\"https://colab.research.google.com/assets/colab-badge.svg\" alt=\"Open In Colab\"/></a>"
      ]
    },
    {
      "cell_type": "markdown",
      "source": [
        "# Imports"
      ],
      "metadata": {
        "id": "NJPmsyg3n4N7"
      }
    },
    {
      "cell_type": "markdown",
      "source": [
        "Third-party imports"
      ],
      "metadata": {
        "id": "MpR9tk55nz-M"
      }
    },
    {
      "cell_type": "code",
      "source": [
        "import numpy as np\n",
        "from numpy.typing import NDArray"
      ],
      "metadata": {
        "id": "TBCcDbLZew8R"
      },
      "execution_count": null,
      "outputs": []
    },
    {
      "cell_type": "markdown",
      "source": [
        "Standard imports"
      ],
      "metadata": {
        "id": "Q9SFmjdxxxmt"
      }
    },
    {
      "cell_type": "code",
      "source": [
        "import random\n",
        "from typing import Callable, Any"
      ],
      "metadata": {
        "id": "Ae8PKAkBfPpd"
      },
      "execution_count": null,
      "outputs": []
    },
    {
      "cell_type": "markdown",
      "source": [
        "# Modules"
      ],
      "metadata": {
        "id": "bCAuzJpfy9Sa"
      }
    },
    {
      "cell_type": "markdown",
      "source": [
        "## Activations"
      ],
      "metadata": {
        "id": "YH8_kbBAn6fR"
      }
    },
    {
      "cell_type": "code",
      "source": [
        "class Activation:\n",
        "    def __init__( self, in_count: int ) -> None:\n",
        "        self.in_count = in_count\n",
        "\n",
        "    def forward(self, x: NDArray) -> NDArray:\n",
        "        raise NotImplementedError()"
      ],
      "metadata": {
        "id": "2XtXsS5Eqs8T"
      },
      "execution_count": null,
      "outputs": []
    },
    {
      "cell_type": "code",
      "source": [
        "class StepActivation(Activation):\n",
        "    def forward(self, x: NDArray) -> NDArray:\n",
        "        return (x >= 0).astype(int)"
      ],
      "metadata": {
        "id": "q65PXdGbe6ZJ"
      },
      "execution_count": null,
      "outputs": []
    },
    {
      "cell_type": "code",
      "source": [
        "class SigmoidActivation(Activation):\n",
        "    def forward(self, x: NDArray) -> NDArray:\n",
        "        return 1 / ( 1 + np.e ** (-x) )"
      ],
      "metadata": {
        "id": "48quoXkeqoke"
      },
      "execution_count": null,
      "outputs": []
    },
    {
      "cell_type": "markdown",
      "source": [
        "## Neural layers"
      ],
      "metadata": {
        "id": "WhFDJ3Lhn_YJ"
      }
    },
    {
      "cell_type": "code",
      "execution_count": null,
      "metadata": {
        "id": "4RShMuiJd7Iz"
      },
      "outputs": [],
      "source": [
        "class Dense:\n",
        "    def __init__(self,\n",
        "                 in_count: int,\n",
        "                 out_count: int,\n",
        "                 ) -> None:\n",
        "\n",
        "        self.in_count = in_count\n",
        "        self.out_count = out_count\n",
        "        self.weights = np.random.rand(self.out_count, self.in_count)\n",
        "        self.biases = np.random.rand(self.out_count)\n",
        "\n",
        "    def forward(self, x: NDArray) -> NDArray:\n",
        "        return np.dot( self.weights, x ) + self.biases\n",
        "\n",
        "    def set_weights(self, weights: NDArray) -> None:\n",
        "        self.weights = weights\n",
        "\n",
        "    def set_biases(self, biases: NDArray) -> None:\n",
        "        self.biases = biases"
      ]
    }
  ]
}