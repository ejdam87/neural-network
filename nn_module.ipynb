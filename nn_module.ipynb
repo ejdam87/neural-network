{
  "nbformat": 4,
  "nbformat_minor": 0,
  "metadata": {
    "colab": {
      "provenance": [],
      "collapsed_sections": [
        "NJPmsyg3n4N7",
        "bCAuzJpfy9Sa",
        "92dos-wuglg_",
        "YH8_kbBAn6fR",
        "WhFDJ3Lhn_YJ",
        "phhbRRIk62hn"
      ],
      "authorship_tag": "ABX9TyMvB9bFOAjNC1K1k00bcQ6S",
      "include_colab_link": true
    },
    "kernelspec": {
      "name": "python3",
      "display_name": "Python 3"
    },
    "language_info": {
      "name": "python"
    }
  },
  "cells": [
    {
      "cell_type": "markdown",
      "metadata": {
        "id": "view-in-github",
        "colab_type": "text"
      },
      "source": [
        "<a href=\"https://colab.research.google.com/github/ejdam87/neural-network/blob/master/nn_module.ipynb\" target=\"_parent\"><img src=\"https://colab.research.google.com/assets/colab-badge.svg\" alt=\"Open In Colab\"/></a>"
      ]
    },
    {
      "cell_type": "markdown",
      "source": [
        "# Imports"
      ],
      "metadata": {
        "id": "NJPmsyg3n4N7"
      }
    },
    {
      "cell_type": "markdown",
      "source": [
        "Third-party imports"
      ],
      "metadata": {
        "id": "MpR9tk55nz-M"
      }
    },
    {
      "cell_type": "code",
      "source": [
        "import numpy as np\n",
        "from numpy.typing import NDArray\n",
        "import matplotlib.pyplot as plt"
      ],
      "metadata": {
        "id": "TBCcDbLZew8R"
      },
      "execution_count": 12,
      "outputs": []
    },
    {
      "cell_type": "markdown",
      "source": [
        "Standard imports"
      ],
      "metadata": {
        "id": "Q9SFmjdxxxmt"
      }
    },
    {
      "cell_type": "code",
      "source": [
        "import random\n",
        "from typing import Callable, Any"
      ],
      "metadata": {
        "id": "Ae8PKAkBfPpd"
      },
      "execution_count": 2,
      "outputs": []
    },
    {
      "cell_type": "markdown",
      "source": [
        "# Modules"
      ],
      "metadata": {
        "id": "bCAuzJpfy9Sa"
      }
    },
    {
      "cell_type": "code",
      "source": [
        "class Module:\n",
        "    def forward(self, x: NDArray) -> NDArray:\n",
        "        raise NotImplementedError()"
      ],
      "metadata": {
        "id": "clE1oVP06XBb"
      },
      "execution_count": 3,
      "outputs": []
    },
    {
      "cell_type": "code",
      "source": [
        "class Sequential(Module):\n",
        "    def __init__(self, layers: list[Module]) -> None:\n",
        "        self.layers = layers\n",
        "\n",
        "    def forward(self, x: NDArray) -> NDArray:\n",
        "        res = x\n",
        "        for layer in self.layers:\n",
        "            res = layer.forward(res)\n",
        "\n",
        "        return res"
      ],
      "metadata": {
        "id": "NZhr-jzL7q67"
      },
      "execution_count": 4,
      "outputs": []
    },
    {
      "cell_type": "markdown",
      "source": [
        "## Special"
      ],
      "metadata": {
        "id": "92dos-wuglg_"
      }
    },
    {
      "cell_type": "code",
      "source": [
        "class FlattenLayer(Module):\n",
        "    def forward(self, x: NDArray) -> NDArray:\n",
        "        return x.flatten()"
      ],
      "metadata": {
        "id": "Dw6YVI2Zgmme"
      },
      "execution_count": null,
      "outputs": []
    },
    {
      "cell_type": "markdown",
      "source": [
        "## Activations"
      ],
      "metadata": {
        "id": "YH8_kbBAn6fR"
      }
    },
    {
      "cell_type": "code",
      "source": [
        "class Activation(Module):\n",
        "    def __init__(self, in_count: int) -> None:\n",
        "        self.in_count = in_count"
      ],
      "metadata": {
        "id": "2XtXsS5Eqs8T"
      },
      "execution_count": 5,
      "outputs": []
    },
    {
      "cell_type": "code",
      "source": [
        "class StepActivation(Activation):\n",
        "    def forward(self, x: NDArray) -> NDArray:\n",
        "        return (x >= 0).astype(int)"
      ],
      "metadata": {
        "id": "q65PXdGbe6ZJ"
      },
      "execution_count": 6,
      "outputs": []
    },
    {
      "cell_type": "code",
      "source": [
        "class SigmoidActivation(Activation):\n",
        "    def forward(self, x: NDArray) -> NDArray:\n",
        "        return 1 / ( 1 + np.e ** (-x) )"
      ],
      "metadata": {
        "id": "48quoXkeqoke"
      },
      "execution_count": 7,
      "outputs": []
    },
    {
      "cell_type": "code",
      "source": [
        "class ReLUActivation(Activation):\n",
        "    def forward(self, x: NDArray) -> NDArray:\n",
        "        return (x + np.abs(x)) / 2  # same as max(0, elem) for elem in x"
      ],
      "metadata": {
        "id": "uBSZQtpTbgxp"
      },
      "execution_count": 8,
      "outputs": []
    },
    {
      "cell_type": "markdown",
      "source": [
        "## Neural layers"
      ],
      "metadata": {
        "id": "WhFDJ3Lhn_YJ"
      }
    },
    {
      "cell_type": "code",
      "execution_count": 9,
      "metadata": {
        "id": "4RShMuiJd7Iz"
      },
      "outputs": [],
      "source": [
        "class Dense(Module):\n",
        "    def __init__(self,\n",
        "                 in_count: int,\n",
        "                 out_count: int,\n",
        "                 ) -> None:\n",
        "\n",
        "        self.in_count = in_count\n",
        "        self.out_count = out_count\n",
        "        self.weights = np.random.rand(self.out_count, self.in_count)\n",
        "        self.biases = np.random.rand(self.out_count)\n",
        "\n",
        "    def forward(self, x: NDArray) -> NDArray:\n",
        "        return np.dot( self.weights, x ) + self.biases\n",
        "\n",
        "    def set_weights(self, weights: NDArray) -> None:\n",
        "        self.weights = weights\n",
        "\n",
        "    def set_biases(self, biases: NDArray) -> None:\n",
        "        self.biases = biases"
      ]
    },
    {
      "cell_type": "markdown",
      "source": [
        "# Training"
      ],
      "metadata": {
        "id": "tTBZLTou9FX9"
      }
    },
    {
      "cell_type": "code",
      "source": [
        "class Trainer:\n",
        "    def __init__(self) -> None:\n",
        "        pass"
      ],
      "metadata": {
        "id": "irSioLKd9SmB"
      },
      "execution_count": null,
      "outputs": []
    },
    {
      "cell_type": "markdown",
      "source": [
        "## Cost functions"
      ],
      "metadata": {
        "id": "N2yBskS6hyxi"
      }
    },
    {
      "cell_type": "code",
      "source": [
        "def mse(y: NDArray, y_pred: NDArray) -> float:\n",
        "    return ( (y - y_pred) ** 2 ) / len(y)"
      ],
      "metadata": {
        "id": "fAzKSdPuhyh7"
      },
      "execution_count": 18,
      "outputs": []
    },
    {
      "cell_type": "code",
      "source": [
        "def bce(y: NDArray, y_pred: NDArray) -> float:\n",
        "    epsilon = 1e-15\n",
        "    y_pred = np.clip(y_pred, epsilon, 1 - epsilon)\n",
        "\n",
        "    loss = -(y * np.log(y_pred) + (1 - y) * np.log(1 - y_pred))\n",
        "    mean_loss = np.mean(loss)\n",
        "\n",
        "    return mean_loss"
      ],
      "metadata": {
        "id": "WIh87mOim7-Z"
      },
      "execution_count": 41,
      "outputs": []
    },
    {
      "cell_type": "markdown",
      "source": [
        "# Showcase"
      ],
      "metadata": {
        "id": "phhbRRIk62hn"
      }
    },
    {
      "cell_type": "markdown",
      "source": [
        "Basic model creation"
      ],
      "metadata": {
        "id": "osrLt0ONcKGN"
      }
    },
    {
      "cell_type": "code",
      "source": [
        "model = Sequential( [\n",
        "    Dense(3, 2),\n",
        "    StepActivation(2),\n",
        "    Dense(2, 1),\n",
        "    SigmoidActivation(1)\n",
        "] )\n",
        "\n",
        "print( model.forward( np.array([1, 2, 3]) ) )"
      ],
      "metadata": {
        "id": "__jNSBYi64bW"
      },
      "execution_count": null,
      "outputs": []
    },
    {
      "cell_type": "markdown",
      "source": [
        "Activations plots on 1D inputs"
      ],
      "metadata": {
        "id": "uRH8_OaycNXp"
      }
    },
    {
      "cell_type": "code",
      "source": [
        "sigmoid = SigmoidActivation(200)\n",
        "x = np.linspace(-10, 10, 200)\n",
        "y = sigmoid.forward(x)\n",
        "\n",
        "plt.plot(x, y)"
      ],
      "metadata": {
        "colab": {
          "base_uri": "https://localhost:8080/",
          "height": 448
        },
        "id": "VZsPp4PxcI-a",
        "outputId": "a48ace89-fcf3-4cd6-9bbc-a4e46acac061"
      },
      "execution_count": 14,
      "outputs": [
        {
          "output_type": "execute_result",
          "data": {
            "text/plain": [
              "[<matplotlib.lines.Line2D at 0x79d036f9ac50>]"
            ]
          },
          "metadata": {},
          "execution_count": 14
        },
        {
          "output_type": "display_data",
          "data": {
            "text/plain": [
              "<Figure size 640x480 with 1 Axes>"
            ],
            "image/png": "[encoded data removed]"
          },
          "metadata": {}
        }
      ]
    },
    {
      "cell_type": "code",
      "source": [
        "sigmoid = StepActivation(200)\n",
        "x = np.linspace(-10, 10, 200)\n",
        "y = sigmoid.forward(x)\n",
        "\n",
        "plt.plot(x, y)"
      ],
      "metadata": {
        "colab": {
          "base_uri": "https://localhost:8080/",
          "height": 448
        },
        "id": "zGuEHk1PctdX",
        "outputId": "5260ca60-c2f4-4777-ec28-41a3db540704"
      },
      "execution_count": 15,
      "outputs": [
        {
          "output_type": "execute_result",
          "data": {
            "text/plain": [
              "[<matplotlib.lines.Line2D at 0x79d036857eb0>]"
            ]
          },
          "metadata": {},
          "execution_count": 15
        },
        {
          "output_type": "display_data",
          "data": {
            "text/plain": [
              "<Figure size 640x480 with 1 Axes>"
            ],
            "image/png": "[encoded data removed]"
          },
          "metadata": {}
        }
      ]
    },
    {
      "cell_type": "code",
      "source": [
        "sigmoid = ReLUActivation(200)\n",
        "x = np.linspace(-10, 10, 200)\n",
        "y = sigmoid.forward(x)\n",
        "\n",
        "plt.plot(x, y)"
      ],
      "metadata": {
        "colab": {
          "base_uri": "https://localhost:8080/",
          "height": 448
        },
        "id": "7Yo4s9b_c2I2",
        "outputId": "06b796d0-9acd-4f08-a229-698e6df9a00a"
      },
      "execution_count": 16,
      "outputs": [
        {
          "output_type": "execute_result",
          "data": {
            "text/plain": [
              "[<matplotlib.lines.Line2D at 0x79d036c26530>]"
            ]
          },
          "metadata": {},
          "execution_count": 16
        },
        {
          "output_type": "display_data",
          "data": {
            "text/plain": [
              "<Figure size 640x480 with 1 Axes>"
            ],
            "image/png": "[encoded data removed]"
          },
          "metadata": {}
        }
      ]
    }
  ]
}